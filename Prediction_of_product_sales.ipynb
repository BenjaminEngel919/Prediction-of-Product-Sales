{
  "nbformat": 4,
  "nbformat_minor": 0,
  "metadata": {
    "colab": {
      "provenance": []
    },
    "kernelspec": {
      "name": "python3",
      "display_name": "Python 3"
    },
    "language_info": {
      "name": "python"
    }
  },
  "cells": [
    {
      "cell_type": "markdown",
      "source": [
        "#**Prediction** **of** **Product** **Sales**"
      ],
      "metadata": {
        "id": "TfRZo8zoja8S"
      }
    },
    {
      "cell_type": "markdown",
      "source": [
        "\n",
        "\n",
        "> **Benjamin** **Engel**\n",
        "\n",
        "\n",
        "\n"
      ],
      "metadata": {
        "id": "G2BqFgKyj4rA"
      }
    },
    {
      "cell_type": "markdown",
      "source": [
        "##Project Overview"
      ],
      "metadata": {
        "id": "nwx6WtlzkbMw"
      }
    },
    {
      "cell_type": "code",
      "source": [],
      "metadata": {
        "id": "GIPfAce5kqC-"
      },
      "execution_count": null,
      "outputs": []
    },
    {
      "cell_type": "markdown",
      "source": [
        "##Load and Inspect Data"
      ],
      "metadata": {
        "id": "gr9iPY2Fkq_P"
      }
    },
    {
      "cell_type": "code",
      "source": [],
      "metadata": {
        "id": "86G93guckv2p"
      },
      "execution_count": null,
      "outputs": []
    },
    {
      "cell_type": "markdown",
      "source": [
        "##Clean Data"
      ],
      "metadata": {
        "id": "6E4BFpjDkwbK"
      }
    },
    {
      "cell_type": "code",
      "source": [],
      "metadata": {
        "id": "ioe77vAmk3Jo"
      },
      "execution_count": null,
      "outputs": []
    },
    {
      "cell_type": "markdown",
      "source": [
        "##Exploratory Data Analysis"
      ],
      "metadata": {
        "id": "Y41o3Ddrk3hH"
      }
    },
    {
      "cell_type": "code",
      "source": [],
      "metadata": {
        "id": "JENqAjfyk-xQ"
      },
      "execution_count": null,
      "outputs": []
    },
    {
      "cell_type": "markdown",
      "source": [
        "##Explanatory Data Analysis"
      ],
      "metadata": {
        "id": "_P2bhZ5vk_p9"
      }
    },
    {
      "cell_type": "code",
      "source": [],
      "metadata": {
        "id": "ayN9OK0flF0w"
      },
      "execution_count": null,
      "outputs": []
    }
  ]
}